{
 "cells": [
  {
   "cell_type": "code",
   "execution_count": 82,
   "metadata": {
    "scrolled": true
   },
   "outputs": [
    {
     "data": {
      "text/latex": [
       "$$f(x) = \\frac{1}{2}x^3 + 3x^2$$"
      ],
      "text/plain": [
       "<IPython.core.display.Math object>"
      ]
     },
     "metadata": {},
     "output_type": "display_data"
    },
    {
     "data": {
      "text/latex": [
       "$$f^\\prime(x) = \\frac{3}{2}x^2 + 6x$$"
      ],
      "text/plain": [
       "<IPython.core.display.Math object>"
      ]
     },
     "metadata": {},
     "output_type": "display_data"
    },
    {
     "data": {
      "text/latex": [
       "$$r(x) = 48x + 320$$"
      ],
      "text/plain": [
       "<IPython.core.display.Math object>"
      ]
     },
     "metadata": {},
     "output_type": "display_data"
    },
    {
     "data": {
      "text/latex": [
       "$$g(x) = -6x -4$$"
      ],
      "text/plain": [
       "<IPython.core.display.Math object>"
      ]
     },
     "metadata": {},
     "output_type": "display_data"
    },
    {
     "data": {
      "text/latex": [
       "$$b(x) = 90x-324$$"
      ],
      "text/plain": [
       "<IPython.core.display.Math object>"
      ]
     },
     "metadata": {},
     "output_type": "display_data"
    },
    {
     "data": {
      "image/png": "[encoded data removed]",
      "text/plain": [
       "<Figure size 432x288 with 1 Axes>"
      ]
     },
     "metadata": {},
     "output_type": "display_data"
    }
   ],
   "source": [
    "#20160044 Shin Dong-Ha\n",
    "from IPython.display import Math\n",
    "import matplotlib.pyplot as plt\n",
    "\n",
    "#Define x, y label\n",
    "plt.xlabel('x')\n",
    "plt.ylabel('y')\n",
    "\n",
    "#Define the domain of the function (-10 ~ 10)\n",
    "x = range(-10, 11)\n",
    "#Define the custom function y = (1/2)x^3 + 3x^2\n",
    "y = [0.5*v*v*v + 3*v*v for v in x]\n",
    "#Define the Taylor approximation r = 48x + 320\n",
    "r = [48*v + 320 for v in x]\n",
    "#Define the Taylor approximation g = -6x -4\n",
    "g = [-6*v -4 for v in x]\n",
    "#Define the Taylor approximation b = 90x-324\n",
    "b = [90*v -324 for v in bx]\n",
    "\n",
    "\n",
    "#Draw all the graphs I defined\n",
    "plt.plot(x, y, 'k', label = 'f(x)')\n",
    "plt.plot(x, r, 'r', label = 'r(x)')\n",
    "plt.plot(x, g, 'g', label = 'g(x)')\n",
    "\n",
    "#Vlaue y of the function b(x) when x is under 1 was too low so I newly defined the domain of the function b(x)\n",
    "bx = range(1, 11)\n",
    "plt.plot(bx, b, 'b', label = 'b(x)')\n",
    "\n",
    "#Draw the contact point\n",
    "plt.plot(-8, -64, 'ro')\n",
    "plt.plot(-2, 8, 'go')\n",
    "plt.plot(6, 216, 'bo')\n",
    "\n",
    "#Set legend of the graphs\n",
    "plt.legend(loc='upper left')\n",
    "#Show all the graphs\n",
    "plt.show\n",
    "#Show all the function definitions\n",
    "display(Math(r'f(x) = \\frac{1}{2}x^3 + 3x^2'))\n",
    "display(Math(r'f^\\prime(x) = \\frac{3}{2}x^2 + 6x'))\n",
    "display(Math(r'r(x) = 48x + 320'))\n",
    "display(Math(r'g(x) = -6x -4'))\n",
    "display(Math(r'b(x) = 90x-324'))\n",
    "\n"
   ]
  },
  {
   "cell_type": "code",
   "execution_count": null,
   "metadata": {},
   "outputs": [],
   "source": []
  },
  {
   "cell_type": "code",
   "execution_count": null,
   "metadata": {},
   "outputs": [],
   "source": []
  }
 ],
 "metadata": {
  "kernelspec": {
   "display_name": "Python 3",
   "language": "python",
   "name": "python3"
  },
  "language_info": {
   "codemirror_mode": {
    "name": "ipython",
    "version": 3
   },
   "file_extension": ".py",
   "mimetype": "text/x-python",
   "name": "python",
   "nbconvert_exporter": "python",
   "pygments_lexer": "ipython3",
   "version": "3.6.5"
  }
 },
 "nbformat": 4,
 "nbformat_minor": 2
}
